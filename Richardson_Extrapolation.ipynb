{
  "nbformat": 4,
  "nbformat_minor": 0,
  "metadata": {
    "colab": {
      "name": "Richardson_Extrapolation.ipynb",
      "provenance": [],
      "authorship_tag": "ABX9TyPbIcsaiMWjV4c1L7o4dLSu",
      "include_colab_link": true
    },
    "kernelspec": {
      "name": "python3",
      "display_name": "Python 3"
    },
    "language_info": {
      "name": "python"
    }
  },
  "cells": [
    {
      "cell_type": "markdown",
      "metadata": {
        "id": "view-in-github",
        "colab_type": "text"
      },
      "source": [
        "<a href=\"https://colab.research.google.com/github/proinsiasR/Richardson_Extrapolation_ReciprocalSquares/blob/main/Richardson_Extrapolation.ipynb\" target=\"_parent\"><img src=\"https://colab.research.google.com/assets/colab-badge.svg\" alt=\"Open In Colab\"/></a>"
      ]
    },
    {
      "cell_type": "code",
      "execution_count": null,
      "metadata": {
        "id": "atul228eqaGo"
      },
      "outputs": [],
      "source": [
        "import numpy as np\n",
        "import matplotlib.pyplot as plt"
      ]
    },
    {
      "cell_type": "code",
      "source": [
        "s_15 = np.pi**2/6\n",
        "# Value of the sum of square reciprocals from 1 to inf..... \n",
        "#  so sum i=1 to inf of 1/(n^2)\n",
        "# It's good for at least 15 decimal places using python for that value\n",
        "s_15"
      ],
      "metadata": {
        "colab": {
          "base_uri": "https://localhost:8080/"
        },
        "id": "FdWAs5GNrhmZ",
        "outputId": "95672aa0-fb37-48e1-bbcb-caca8fdff7a6"
      },
      "execution_count": null,
      "outputs": [
        {
          "output_type": "execute_result",
          "data": {
            "text/plain": [
              "1.6449340668482264"
            ]
          },
          "metadata": {},
          "execution_count": 3
        }
      ]
    },
    {
      "cell_type": "code",
      "source": [
        "cols = int(50)\n",
        "\n",
        "# SN = 0\n",
        "# for i in range(cols):\n",
        "#   SN += 1/((i+1)**2)\n",
        "\n",
        "SN = np.zeros(150)\n",
        "for i in range(150):\n",
        "  SN[i] = 1/((i+1)**2) + SN[i-1]\n",
        "\n",
        "SN"
      ],
      "metadata": {
        "colab": {
          "base_uri": "https://localhost:8080/"
        },
        "id": "B1AZVBQIqjiY",
        "outputId": "da4ae66e-f105-460d-f448-d2723edb9714"
      },
      "execution_count": null,
      "outputs": [
        {
          "output_type": "execute_result",
          "data": {
            "text/plain": [
              "array([1.        , 1.25      , 1.36111111, 1.42361111, 1.46361111,\n",
              "       1.49138889, 1.51179705, 1.52742205, 1.53976773, 1.54976773,\n",
              "       1.55803219, 1.56497664, 1.5708938 , 1.57599584, 1.58044028,\n",
              "       1.58434653, 1.58780674, 1.59089316, 1.59366324, 1.59616324,\n",
              "       1.59843082, 1.60049693, 1.60238729, 1.6041234 , 1.6057234 ,\n",
              "       1.60720269, 1.60857444, 1.60984995, 1.61103901, 1.61215012,\n",
              "       1.6131907 , 1.61416726, 1.61508554, 1.61595059, 1.61676691,\n",
              "       1.61753852, 1.61826898, 1.6189615 , 1.61961896, 1.62024396,\n",
              "       1.62083885, 1.62140574, 1.62194657, 1.6224631 , 1.62295693,\n",
              "       1.62342952, 1.62388221, 1.62431624, 1.62473273, 1.62513273,\n",
              "       1.6255172 , 1.62588702, 1.62624302, 1.62658596, 1.62691654,\n",
              "       1.62723541, 1.6275432 , 1.62784047, 1.62812774, 1.62840552,\n",
              "       1.62867426, 1.62893441, 1.62918636, 1.6294305 , 1.62966719,\n",
              "       1.62989676, 1.63011952, 1.63033579, 1.63054583, 1.63074991,\n",
              "       1.63094828, 1.63114118, 1.63132883, 1.63151145, 1.63168923,\n",
              "       1.63186236, 1.63203102, 1.63219539, 1.63235562, 1.63251187,\n",
              "       1.63266428, 1.632813  , 1.63295816, 1.63309989, 1.63323829,\n",
              "       1.6333735 , 1.63350562, 1.63363475, 1.633761  , 1.63388446,\n",
              "       1.63400521, 1.63412336, 1.63423898, 1.63435216, 1.63446296,\n",
              "       1.63457147, 1.63467775, 1.63478187, 1.6348839 , 1.6349839 ,\n",
              "       1.63508193, 1.63517805, 1.63527231, 1.63536476, 1.63545546,\n",
              "       1.63554446, 1.63563181, 1.63571754, 1.63580171, 1.63588435,\n",
              "       1.63596552, 1.63604524, 1.63612355, 1.6362005 , 1.63627611,\n",
              "       1.63635043, 1.63642348, 1.6364953 , 1.63656591, 1.63663536,\n",
              "       1.63670366, 1.63677085, 1.63683695, 1.63690198, 1.63696598,\n",
              "       1.63702897, 1.63709097, 1.637152  , 1.6372121 , 1.63727127,\n",
              "       1.63732954, 1.63738693, 1.63744347, 1.63749916, 1.63755403,\n",
              "       1.63760809, 1.63766137, 1.63771388, 1.63776564, 1.63781666,\n",
              "       1.63786696, 1.63791655, 1.63796545, 1.63801368, 1.63806124,\n",
              "       1.63810815, 1.63815443, 1.63820009, 1.63824513, 1.63828957])"
            ]
          },
          "metadata": {},
          "execution_count": 4
        }
      ]
    },
    {
      "cell_type": "code",
      "source": [
        "R1 = np.zeros(cols)\n",
        "for i in range(cols-1):\n",
        "  R1[i] = SN[i+1]*(i+1) - i*SN[i]\n",
        "R1"
      ],
      "metadata": {
        "colab": {
          "base_uri": "https://localhost:8080/"
        },
        "id": "DdZPmFCwxYbH",
        "outputId": "6205f43e-886f-495d-e138-c35e282f0ed1"
      },
      "execution_count": null,
      "outputs": [
        {
          "output_type": "execute_result",
          "data": {
            "text/plain": [
              "array([1.25      , 1.47222222, 1.54861111, 1.58361111, 1.6025    ,\n",
              "       1.61383787, 1.62117205, 1.62618748, 1.62976773, 1.63241236,\n",
              "       1.63442108, 1.63598256, 1.63722033, 1.63821806, 1.63903403,\n",
              "       1.63970986, 1.64027588, 1.64075466, 1.64116324, 1.64151472,\n",
              "       1.64181925, 1.64208484, 1.64231785, 1.6425234 , 1.64270565,\n",
              "       1.64286799, 1.64301321, 1.64314364, 1.64326123, 1.6433676 ,\n",
              "       1.64346414, 1.64355202, 1.64363225, 1.64370569, 1.64377309,\n",
              "       1.64383509, 1.64389225, 1.64394506, 1.64399396, 1.64403932,\n",
              "       1.64408148, 1.64412072, 1.64415732, 1.6441915 , 1.64422347,\n",
              "       1.64425342, 1.64428152, 1.64430791, 1.64433273, 0.        ])"
            ]
          },
          "metadata": {},
          "execution_count": 5
        }
      ]
    },
    {
      "cell_type": "code",
      "source": [
        "R2 = np.zeros(cols)\n",
        "for i in range(cols-2):\n",
        "  R2[i] = 0.5*(SN[i+2]*(i+2)**2 - SN[i+1]*2*(i+1)**2 + SN[i]*i**2)\n",
        "\n",
        "R2\n",
        "R2[25]"
      ],
      "metadata": {
        "colab": {
          "base_uri": "https://localhost:8080/"
        },
        "id": "bNftDERsb5P9",
        "outputId": "6f3633ef-ccd1-4c27-a213-ce2ebd20e66a"
      },
      "execution_count": null,
      "outputs": [
        {
          "output_type": "execute_result",
          "data": {
            "text/plain": [
              "1.6448284948810965"
            ]
          },
          "metadata": {},
          "execution_count": 6
        }
      ]
    },
    {
      "cell_type": "code",
      "source": [
        "R8 = np.zeros(cols)\n",
        "for i in range(cols-8):\n",
        "  R8[i] = (1/(8*7*6*5*4*3*2*1))*(SN[i+8]*(i+8)**8 - 8*SN[i+7]*(i+7)**8 + 28*SN[i+6]*(i+6)**8 - 56*SN[i+5]*(i+5)**8 + 70*SN[i+4]*(i+4)**8 - 56*SN[i+3]*(i+3)**8 + 28*SN[i+2]*(i+2)**8 - 8*SN[i+1]*(i+1)**8 + SN[i]*i**8)\n",
        "\n",
        "R8[::5]"
      ],
      "metadata": {
        "colab": {
          "base_uri": "https://localhost:8080/"
        },
        "id": "IzxwI5hidXaf",
        "outputId": "12a3fb55-d500-4f7f-91cb-ee80d702abec"
      },
      "execution_count": null,
      "outputs": [
        {
          "output_type": "execute_result",
          "data": {
            "text/plain": [
              "array([1.64491969, 1.64493406, 1.64493407, 1.64493406, 1.644934  ,\n",
              "       1.64493392, 1.64493391, 1.644936  , 1.64493796, 0.        ])"
            ]
          },
          "metadata": {},
          "execution_count": 7
        }
      ]
    }
  ]
}